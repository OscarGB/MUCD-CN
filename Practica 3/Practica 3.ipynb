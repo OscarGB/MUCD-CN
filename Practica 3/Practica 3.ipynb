{
 "cells": [
  {
   "cell_type": "markdown",
   "metadata": {},
   "source": [
    "<div style=\"font-weight: bold\" align=\"center\">\n",
    "    <div style=\"font-size: xx-large; color:#3d6f91\">Computación Numérica</div><br>\n",
    "    <div style=\"font-size: x-large; color:gray\">Práctica 3</div><br>\n",
    "    <div style=\"font-size: large; color: #5D8AA8\">Óscar Gómez Borzdynski y Alejandro Cabana Suárez</div><br></div><hr>\n",
    "</div>"
   ]
  },
  {
   "cell_type": "raw",
   "metadata": {},
   "source": [
    "from IPython.display import HTML\n",
    "\n",
    "HTML('''<script>\n",
    "code_show=true; \n",
    "function code_toggle() {\n",
    " if (code_show){\n",
    " $('div.input').hide();\n",
    " } else {\n",
    " $('div.input').show();\n",
    " }\n",
    " code_show = !code_show\n",
    "} \n",
    "$( document ).ready(code_toggle);\n",
    "</script>\n",
    "<form action=\"javascript:code_toggle()\"><input type=\"submit\" value=\"Mostrar o esconder código\"></form>''')"
   ]
  },
  {
   "cell_type": "code",
   "execution_count": 1,
   "metadata": {},
   "outputs": [],
   "source": [
    "import matplotlib.pyplot as plt\n",
    "import sys\n",
    "import numpy as np\n",
    "from scipy import interpolate"
   ]
  },
  {
   "cell_type": "code",
   "execution_count": 2,
   "metadata": {},
   "outputs": [
    {
     "data": {
      "text/html": [
       "<style>\n",
       "    h1, h2, h3 {color: #3d6f91;}\n",
       "    b {color: #5D8AA8;}\n",
       "</style>\n"
      ],
      "text/plain": [
       "<IPython.core.display.HTML object>"
      ]
     },
     "metadata": {},
     "output_type": "display_data"
    }
   ],
   "source": [
    "%%html\n",
    "<style>\n",
    "    h1, h2, h3 {color: #3d6f91;}\n",
    "    b {color: #5D8AA8;}\n",
    "</style>"
   ]
  },
  {
   "cell_type": "markdown",
   "metadata": {},
   "source": [
    "## Cuestiones teóricas\n",
    "\n",
    "<b>1. ¿Dado un conjunto de $n$ puntos, existe siempre un polinomio de grado $m < n-1$ que pase por dichos puntos?</b>\n",
    "\n",
    "No, por ejemplo, tomando 3 puntos no alineados, no existe ninguna recta que pase por los 3.\n",
    "\n",
    "<b>2. ¿Se te ocurre una manera en la cual el cálculo de los valores singulares de una matriz permita calcular un polinomio de regresión adecuado?</b>\n",
    "\n",
    "\n",
    "\n",
    "<b>3. ¿Como podrías transformar el problema de encontrar un polinomio de regresión en un problema de producto de matrices?</b>\n",
    "\n",
    "\n",
    "\n",
    "<b>4. ¿Crees que,además, es posible calcular el error de regresión a partir de los valores singulares?</b>\n",
    "\n"
   ]
  },
  {
   "cell_type": "markdown",
   "metadata": {},
   "source": [
    "## Apartado 1"
   ]
  },
  {
   "cell_type": "code",
   "execution_count": 3,
   "metadata": {},
   "outputs": [],
   "source": [
    "# a)\n",
    "d = 2\n",
    "d += 1\n",
    "\n",
    "x = np.array([0, 0.25, 0.5, 0.75, 1], ndmin=2).T\n",
    "y = np.array([1, 1.284, 1.6487, 2.117, 2.7183], ndmin=2).T\n",
    "\n",
    "X = np.concatenate([x**i for i in range(d)], axis = 1)"
   ]
  },
  {
   "cell_type": "code",
   "execution_count": 4,
   "metadata": {},
   "outputs": [
    {
     "data": {
      "text/plain": [
       "True"
      ]
     },
     "execution_count": 4,
     "metadata": {},
     "output_type": "execute_result"
    }
   ],
   "source": [
    "# b)\n",
    "u, s, vh = np.linalg.svd(X)\n",
    "np.allclose(X, u[:,:d]*s@vh)"
   ]
  },
  {
   "cell_type": "code",
   "execution_count": 5,
   "metadata": {},
   "outputs": [],
   "source": [
    "U = u\n",
    "S = np.zeros_like(X)\n",
    "S[:d,:d] = np.diag(s)\n",
    "V = vh.T"
   ]
  },
  {
   "cell_type": "code",
   "execution_count": 6,
   "metadata": {},
   "outputs": [],
   "source": [
    "# b) a mano\n",
    "l,v = np.linalg.eig(X.T@X)"
   ]
  },
  {
   "cell_type": "markdown",
   "metadata": {},
   "source": [
    "## Apartado 2"
   ]
  },
  {
   "cell_type": "code",
   "execution_count": 7,
   "metadata": {},
   "outputs": [],
   "source": [
    "c = U.T@y\n",
    "z = c[:d]/np.diag(S)[:,None]\n",
    "a = V@z"
   ]
  },
  {
   "cell_type": "markdown",
   "metadata": {},
   "source": [
    "## Apartado 3"
   ]
  },
  {
   "cell_type": "code",
   "execution_count": 8,
   "metadata": {},
   "outputs": [
    {
     "name": "stdout",
     "output_type": "stream",
     "text": [
      "0.0165569493394339\n"
     ]
    }
   ],
   "source": [
    "E = np.linalg.norm(c[d:])\n",
    "print(E)"
   ]
  },
  {
   "cell_type": "code",
   "execution_count": 9,
   "metadata": {},
   "outputs": [
    {
     "name": "stdout",
     "output_type": "stream",
     "text": [
      "0.016556949339433764\n"
     ]
    }
   ],
   "source": [
    "e = np.linalg.norm(X@a-y)\n",
    "print(e)"
   ]
  },
  {
   "cell_type": "code",
   "execution_count": 10,
   "metadata": {
    "scrolled": true
   },
   "outputs": [
    {
     "name": "stdout",
     "output_type": "stream",
     "text": [
      "1.3530843112619095e-16\n"
     ]
    }
   ],
   "source": [
    "print(E-e)"
   ]
  },
  {
   "cell_type": "markdown",
   "metadata": {},
   "source": [
    "## Ejercicio opcional"
   ]
  },
  {
   "cell_type": "code",
   "execution_count": 11,
   "metadata": {},
   "outputs": [],
   "source": [
    "def svd_regression(x, y, degree):\n",
    "    d = degree + 1\n",
    "    \n",
    "    x_ = np.array(x, ndmin=2).T\n",
    "    y_ = np.array(y, ndmin=2).T\n",
    "\n",
    "    X = np.concatenate([x_**i for i in range(d)], axis = 1)\n",
    "    \n",
    "    u, s, vh = np.linalg.svd(X)\n",
    "\n",
    "    c = u.T@y_\n",
    "    z = c[:d]/s[:,None]\n",
    "    a = vh.T@z\n",
    "    \n",
    "    E = np.linalg.norm(c[d:])\n",
    "    \n",
    "    return a, E\n",
    "\n",
    "def eval_svd_regression(x, a):\n",
    "    d = len(a)\n",
    "    x_ = np.array(x, ndmin=2).T\n",
    "    X = np.concatenate([x_**i for i in range(d)], axis = 1)\n",
    "    \n",
    "    return X@a"
   ]
  },
  {
   "cell_type": "code",
   "execution_count": 12,
   "metadata": {},
   "outputs": [],
   "source": [
    "a_d2, E_d2 = svd_regression(x.flatten(), y.flatten(), 2)\n",
    "a_d4, E_d4 = svd_regression(x.flatten(), y.flatten(), 4)"
   ]
  },
  {
   "cell_type": "code",
   "execution_count": 33,
   "metadata": {},
   "outputs": [
    {
     "data": {
      "text/plain": [
       "<matplotlib.legend.Legend at 0x18f656ec850>"
      ]
     },
     "execution_count": 33,
     "metadata": {},
     "output_type": "execute_result"
    },
    {
     "data": {
      "image/png": "[encoded data removed]",
      "text/plain": [
       "<Figure size 720x720 with 1 Axes>"
      ]
     },
     "metadata": {
      "needs_background": "light"
     },
     "output_type": "display_data"
    }
   ],
   "source": [
    "x_test = np.linspace(-0.2,1.2,1000)\n",
    "x_test = np.sort(np.append(x_test,x))\n",
    "\n",
    "y_d2 = eval_svd_regression(x_test,a_d2)\n",
    "y_d4 = eval_svd_regression(x_test,a_d4)\n",
    "\n",
    "plt.figure(figsize = (10,10))\n",
    "plt.plot(x_test,y_d2.flatten(), label='Grado 2')\n",
    "plt.plot(x_test,y_d4.flatten(), label='Grado 4')\n",
    "plt.plot(x.flatten(),y.flatten(), 'xk')\n",
    "plt.legend()"
   ]
  },
  {
   "cell_type": "code",
   "execution_count": 37,
   "metadata": {},
   "outputs": [
    {
     "name": "stdout",
     "output_type": "stream",
     "text": [
      "Errores grado 2 [ 0.00513714 -0.01008857 -0.00055714  0.01083143 -0.00532286]\n",
      "Errores grado 4 [-5.55111512e-16  0.00000000e+00 -4.44089210e-16  0.00000000e+00\n",
      " -4.44089210e-16]\n"
     ]
    }
   ],
   "source": [
    "m = np.in1d(x_test,x[:,0])\n",
    "print('Errores grado 2',y_d2.flatten()[m]-y[:,0])\n",
    "print('Errores grado 4',y_d4.flatten()[m]-y[:,0])"
   ]
  }
 ],
 "metadata": {
  "kernelspec": {
   "display_name": "Python 3",
   "language": "python",
   "name": "python3"
  },
  "language_info": {
   "codemirror_mode": {
    "name": "ipython",
    "version": 3
   },
   "file_extension": ".py",
   "mimetype": "text/x-python",
   "name": "python",
   "nbconvert_exporter": "python",
   "pygments_lexer": "ipython3",
   "version": "3.8.5"
  }
 },
 "nbformat": 4,
 "nbformat_minor": 4
}
