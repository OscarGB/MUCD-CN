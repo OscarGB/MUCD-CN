{
 "cells": [
  {
   "cell_type": "markdown",
   "metadata": {},
   "source": [
    "<div style=\"font-weight: bold\" align=\"center\">\n",
    "    <div style=\"font-size: xx-large; color:#3d6f91\">Computación Numérica</div><br>\n",
    "    <div style=\"font-size: x-large; color:gray\">Práctica 3</div><br>\n",
    "    <div style=\"font-size: large; color: #5D8AA8\">Óscar Gómez Borzdynski y Alejandro Cabana Suárez</div><br></div><hr>\n",
    "</div>"
   ]
  },
  {
   "cell_type": "code",
   "execution_count": 1,
   "metadata": {},
   "outputs": [
    {
     "data": {
      "text/html": [
       "<script>\n",
       "code_show=true; \n",
       "function code_toggle() {\n",
       " if (code_show){\n",
       " $('div.input').hide();\n",
       " } else {\n",
       " $('div.input').show();\n",
       " }\n",
       " code_show = !code_show\n",
       "} \n",
       "$( document ).ready(code_toggle);\n",
       "</script>\n",
       "<form action=\"javascript:code_toggle()\"><input type=\"submit\" value=\"Mostrar o esconder código\"></form>"
      ],
      "text/plain": [
       "<IPython.core.display.HTML object>"
      ]
     },
     "execution_count": 1,
     "metadata": {},
     "output_type": "execute_result"
    }
   ],
   "source": [
    "from IPython.display import HTML\n",
    "\n",
    "HTML('''<script>\n",
    "code_show=true; \n",
    "function code_toggle() {\n",
    " if (code_show){\n",
    " $('div.input').hide();\n",
    " } else {\n",
    " $('div.input').show();\n",
    " }\n",
    " code_show = !code_show\n",
    "} \n",
    "$( document ).ready(code_toggle);\n",
    "</script>\n",
    "<form action=\"javascript:code_toggle()\"><input type=\"submit\" value=\"Mostrar o esconder código\"></form>''')"
   ]
  },
  {
   "cell_type": "code",
   "execution_count": 36,
   "metadata": {},
   "outputs": [],
   "source": [
    "import matplotlib.pyplot as plt\n",
    "import sys\n",
    "import numpy as np\n",
    "from scipy import interpolate"
   ]
  },
  {
   "cell_type": "code",
   "execution_count": 3,
   "metadata": {},
   "outputs": [
    {
     "data": {
      "text/html": [
       "<style>\n",
       "    h1, h2, h3 {color: #3d6f91;}\n",
       "    b {color: #5D8AA8;}\n",
       "</style>\n"
      ],
      "text/plain": [
       "<IPython.core.display.HTML object>"
      ]
     },
     "metadata": {},
     "output_type": "display_data"
    }
   ],
   "source": [
    "%%html\n",
    "<style>\n",
    "    h1, h2, h3 {color: #3d6f91;}\n",
    "    b {color: #5D8AA8;}\n",
    "</style>"
   ]
  },
  {
   "cell_type": "markdown",
   "metadata": {},
   "source": [
    "## Cuestiones teóricas\n",
    "\n",
    "<b>1. ¿Dado un conjunto de $n$ puntos, existe siempre un polinomio de grado $m < n-1$ que pase por dichos puntos?</b>\n",
    "\n",
    "No, por ejemplo, tomando 3 puntos no alineados, no existe ninguna recta que pase por los 3.\n",
    "\n",
    "<b>2. ¿Se te ocurre una manera en la cual el cálculo de los valores singulares de una matriz permita calcular un polinomio de regresión adecuado?</b>\n",
    "\n",
    "\n",
    "\n",
    "<b>3. ¿Como podrías transformar el problema de encontrar un polinomio de regresión en un problema de producto de matrices?</b>\n",
    "\n",
    "\n",
    "\n",
    "<b>4. ¿Crees que,además, es posible calcular el error de regresión a partir de los valores singulares?</b>\n",
    "\n"
   ]
  },
  {
   "cell_type": "code",
   "execution_count": null,
   "metadata": {},
   "outputs": [],
   "source": [
    "vals = np.linspace(0,20*np.pi, 1000)\n",
    "tck = np.polynomial.legendre.legfit(values, f(values), k=3, s=0.05)\n",
    "intval = interpolate.splev(vals, tck)\n",
    "\n",
    "plt.plot(vals, f(vals) - intval, color='#3d6f91')\n",
    "plt.title(\"Ejercicio 3\", fontsize=20, pad=20)\n",
    "plt.hlines(y=0, xmin = min(values), xmax = max(values), color='k', lw=0.5)\n",
    "plt.xlabel('x', fontsize=15)\n",
    "plt.ylabel('f(x)', fontsize=15)"
   ]
  }
 ],
 "metadata": {
  "kernelspec": {
   "display_name": "Python 3",
   "language": "python",
   "name": "python3"
  },
  "language_info": {
   "codemirror_mode": {
    "name": "ipython",
    "version": 3
   },
   "file_extension": ".py",
   "mimetype": "text/x-python",
   "name": "python",
   "nbconvert_exporter": "python",
   "pygments_lexer": "ipython3",
   "version": "3.8.5"
  }
 },
 "nbformat": 4,
 "nbformat_minor": 4
}
