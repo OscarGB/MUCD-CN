{
 "cells": [
  {
   "cell_type": "code",
   "execution_count": 1,
   "metadata": {},
   "outputs": [],
   "source": [
    "import numpy as np\n",
    "import scipy.stats as stats"
   ]
  },
  {
   "cell_type": "code",
   "execution_count": 10,
   "metadata": {},
   "outputs": [],
   "source": [
    "def f(x):\n",
    "    return 60*(x**2)*((1-x)**3)"
   ]
  },
  {
   "cell_type": "code",
   "execution_count": 11,
   "metadata": {},
   "outputs": [
    {
     "data": {
      "text/plain": [
       "0.515"
      ]
     },
     "execution_count": 11,
     "metadata": {},
     "output_type": "execute_result"
    }
   ],
   "source": [
    "np.random.seed(123)\n",
    "\n",
    "n = 200\n",
    "\n",
    "x = np.random.rand(n)\n",
    "fx = f(x)\n",
    "\n",
    "c = max(fx)\n",
    "\n",
    "y = np.random.rand(n)*c\n",
    "\n",
    "accept = y < fx\n",
    "\n",
    "sum(accept)/len(accept)"
   ]
  },
  {
   "cell_type": "code",
   "execution_count": 12,
   "metadata": {},
   "outputs": [],
   "source": [
    "def accept_reject(f, g, gen, n):\n",
    "    x = gen(n)\n",
    "    fx = f(x)\n",
    "    u = np.random.rand(n)\n",
    "    return x[u<fx/(max(fx)*g(x))]"
   ]
  },
  {
   "cell_type": "code",
   "execution_count": 18,
   "metadata": {},
   "outputs": [
    {
     "data": {
      "text/plain": [
       "array([-1.50629471, -2.42667924, -2.79858911, -1.7715331 , -0.80536652,\n",
       "       -1.72766949, -1.29408532, -1.19830114, -2.12310035, -1.08456791,\n",
       "       -1.97788793, -1.86197571, -2.02504576, -1.87686866, -2.5570546 ,\n",
       "       -3.23105501])"
      ]
     },
     "execution_count": 18,
     "metadata": {},
     "output_type": "execute_result"
    }
   ],
   "source": [
    "np.random.seed(123)\n",
    "\n",
    "n = 200\n",
    "gen = lambda n: stats.norm.rvs(size = n)\n",
    "g = stats.norm.pdf\n",
    "\n",
    "accept_reject(f, g, gen, n)"
   ]
  },
  {
   "cell_type": "code",
   "execution_count": 16,
   "metadata": {},
   "outputs": [
    {
     "data": {
      "text/plain": [
       "array([ 1.47192937,  0.30738422, -0.61122534])"
      ]
     },
     "execution_count": 16,
     "metadata": {},
     "output_type": "execute_result"
    }
   ],
   "source": []
  },
  {
   "cell_type": "code",
   "execution_count": null,
   "metadata": {},
   "outputs": [],
   "source": []
  }
 ],
 "metadata": {
  "kernelspec": {
   "display_name": "Python 3",
   "language": "python",
   "name": "python3"
  },
  "language_info": {
   "codemirror_mode": {
    "name": "ipython",
    "version": 3
   },
   "file_extension": ".py",
   "mimetype": "text/x-python",
   "name": "python",
   "nbconvert_exporter": "python",
   "pygments_lexer": "ipython3",
   "version": "3.8.3"
  }
 },
 "nbformat": 4,
 "nbformat_minor": 4
}
