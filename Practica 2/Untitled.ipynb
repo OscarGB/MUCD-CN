{
 "cells": [
  {
   "cell_type": "markdown",
   "metadata": {},
   "source": [
    "<div style=\"font-weight: bold\" align=\"center\">\n",
    "    <div style=\"font-size: xx-large; color:#3d6f91\">Computación Numérica</div><br>\n",
    "    <div style=\"font-size: x-large; color:gray\">Práctica 1</div><br>\n",
    "    <div style=\"font-size: large; color: #5D8AA8\">Óscar Gómez Borzdynski y Alejandro Cabana Suárez</div><br></div><hr>\n",
    "</div>"
   ]
  },
  {
   "cell_type": "code",
   "execution_count": 5,
   "metadata": {},
   "outputs": [
    {
     "data": {
      "text/html": [
       "<script>\n",
       "code_show=true; \n",
       "function code_toggle() {\n",
       " if (code_show){\n",
       " $('div.input').hide();\n",
       " } else {\n",
       " $('div.input').show();\n",
       " }\n",
       " code_show = !code_show\n",
       "} \n",
       "$( document ).ready(code_toggle);\n",
       "</script>\n",
       "<form action=\"javascript:code_toggle()\"><input type=\"submit\" value=\"Mostrar o esconder código\"></form>"
      ],
      "text/plain": [
       "<IPython.core.display.HTML object>"
      ]
     },
     "execution_count": 5,
     "metadata": {},
     "output_type": "execute_result"
    }
   ],
   "source": [
    "from IPython.display import HTML\n",
    "\n",
    "HTML('''<script>\n",
    "code_show=true; \n",
    "function code_toggle() {\n",
    " if (code_show){\n",
    " $('div.input').hide();\n",
    " } else {\n",
    " $('div.input').show();\n",
    " }\n",
    " code_show = !code_show\n",
    "} \n",
    "$( document ).ready(code_toggle);\n",
    "</script>\n",
    "<form action=\"javascript:code_toggle()\"><input type=\"submit\" value=\"Mostrar o esconder código\"></form>''')"
   ]
  },
  {
   "cell_type": "code",
   "execution_count": 1,
   "metadata": {},
   "outputs": [],
   "source": [
    "import matplotlib.pyplot as plt\n",
    "import sys\n",
    "import numpy as np\n"
   ]
  },
  {
   "cell_type": "code",
   "execution_count": 2,
   "metadata": {},
   "outputs": [
    {
     "data": {
      "text/html": [
       "<style>\n",
       "    h1, h2, h3 {color: #3d6f91;}\n",
       "    b {color: #5D8AA8;}\n",
       "</style>\n"
      ],
      "text/plain": [
       "<IPython.core.display.HTML object>"
      ]
     },
     "metadata": {},
     "output_type": "display_data"
    }
   ],
   "source": [
    "%%html\n",
    "<style>\n",
    "    h1, h2, h3 {color: #3d6f91;}\n",
    "    b {color: #5D8AA8;}\n",
    "</style>"
   ]
  },
  {
   "cell_type": "markdown",
   "metadata": {},
   "source": [
    "## Cuestiones teóricas\n",
    "\n",
    "<b>Si una función es periódica ¿Puede estar bien interpolada por un polinomio de Hermite?</b>\n",
    "\n",
    "No, ningún polinomio puede aproximar bien una función periódica ya que tiene finitas derivadas no nulas y en los extremos es siempre creciente o siempre decreciente.\n",
    "\n",
    "<b>En qué condiciones pensáis que un polinomio de Hermite puede interpolar bien una función periódica.</b>\n",
    "\n",
    "<b>¿Qué método pensáis que podría ser mejor para implementar funciones periódicas?</b>\n",
    "\n",
    "Pensamos que la interpolación por series de Fourier, por estar formadas por funciones periódicas será la mejor forma de aproximar funciones periódicas."
   ]
  },
  {
   "cell_type": "markdown",
   "metadata": {},
   "source": [
    "## Ejercicio 1"
   ]
  },
  {
   "cell_type": "code",
   "execution_count": 3,
   "metadata": {},
   "outputs": [],
   "source": [
    "def f(x):\n",
    "    return np.cos(x)**2 - np.sin(x)"
   ]
  },
  {
   "cell_type": "markdown",
   "metadata": {},
   "source": [
    "<b>¿Es una función periódica?</b>\n",
    "\n",
    "Sí, pues está compuesta por sumas y productos de funciones periódicas."
   ]
  },
  {
   "cell_type": "code",
   "execution_count": 4,
   "metadata": {},
   "outputs": [],
   "source": [
    "values = [i*np.pi/32 for i in range(641)]\n",
    "fun_values = f(values)"
   ]
  },
  {
   "cell_type": "code",
   "execution_count": 5,
   "metadata": {},
   "outputs": [
    {
     "data": {
      "text/plain": [
       "Text(0, 0.5, 'f(x)')"
      ]
     },
     "execution_count": 5,
     "metadata": {},
     "output_type": "execute_result"
    },
    {
     "data": {
      "image/png": "[encoded data removed]",
      "text/plain": [
       "<Figure size 432x288 with 1 Axes>"
      ]
     },
     "metadata": {
      "needs_background": "light"
     },
     "output_type": "display_data"
    }
   ],
   "source": [
    "plt.plot(values, fun_values, color='#3d6f91')\n",
    "plt.title(\"Ejercicio 1\", fontsize=20, pad=20)\n",
    "plt.hlines(y=0, xmin = min(values), xmax = max(values), color='k', lw=0.5)\n",
    "plt.xlabel('x', fontsize=15)\n",
    "plt.ylabel('f(x)', fontsize=15)"
   ]
  },
  {
   "cell_type": "markdown",
   "metadata": {},
   "source": [
    "## Ejercicio 2"
   ]
  },
  {
   "cell_type": "code",
   "execution_count": 25,
   "metadata": {},
   "outputs": [],
   "source": [
    "def coefs(f, x):\n",
    "    M = np.ones((641,641)) # Comenzamos con una matriz de unos\n",
    "    M = np.exp(M*(1j/10)*np.repeat([range(641)], 641, axis=0).T*x) # Multiplicamos por e**(i(n/10)*x_k)\n",
    "    F = f(x)\n",
    "    C = (M @ F) * (np.pi/32) # f(x) * M\n",
    "    return C"
   ]
  },
  {
   "cell_type": "code",
   "execution_count": 26,
   "metadata": {},
   "outputs": [],
   "source": [
    "C = coefs(f,values)"
   ]
  },
  {
   "cell_type": "code",
   "execution_count": 27,
   "metadata": {},
   "outputs": [
    {
     "data": {
      "text/plain": [
       "641"
      ]
     },
     "execution_count": 27,
     "metadata": {},
     "output_type": "execute_result"
    }
   ],
   "source": [
    "len(C)"
   ]
  },
  {
   "cell_type": "code",
   "execution_count": 28,
   "metadata": {},
   "outputs": [
    {
     "data": {
      "image/png": "[encoded data removed]",
      "text/plain": [
       "<Figure size 432x288 with 1 Axes>"
      ]
     },
     "metadata": {
      "needs_background": "light"
     },
     "output_type": "display_data"
    }
   ],
   "source": [
    "plt.plot(np.absolute(C), color='#3d6f91')\n",
    "plt.title(\"Ejercicio 2\", fontsize=20, pad=20)\n",
    "plt.hlines(y=0, xmin = min(values), xmax = max(values), color='k', lw=0.5)\n",
    "plt.xlabel('$n$', fontsize=15)\n",
    "_ = plt.ylabel('$C_n$', fontsize=15)"
   ]
  },
  {
   "cell_type": "markdown",
   "metadata": {},
   "source": [
    "## Ejercicio 3\n",
    "\n",
    "Acordarse que en el enunciado hay una errata y hay que multiplicar la f final por $\\frac{32}{\\pi}$"
   ]
  },
  {
   "cell_type": "code",
   "execution_count": 29,
   "metadata": {},
   "outputs": [],
   "source": [
    "def eval(coefs, x):\n",
    "    M = np.ones(641)\n",
    "    M = np.exp(M*(-1j/10)*np.array(range(641))*x)\n",
    "    F = (M @ coefs)*(32/np.pi) / 640\n",
    "    return F"
   ]
  },
  {
   "cell_type": "code",
   "execution_count": 33,
   "metadata": {},
   "outputs": [
    {
     "data": {
      "text/plain": [
       "(1.5015624999999344-8.220924169538584e-14j)"
      ]
     },
     "execution_count": 33,
     "metadata": {},
     "output_type": "execute_result"
    }
   ],
   "source": [
    "eval(C, np.pi)"
   ]
  },
  {
   "cell_type": "code",
   "execution_count": 187,
   "metadata": {},
   "outputs": [
    {
     "data": {
      "text/plain": [
       "1.0"
      ]
     },
     "execution_count": 187,
     "metadata": {},
     "output_type": "execute_result"
    }
   ],
   "source": [
    "f(0)"
   ]
  },
  {
   "cell_type": "code",
   "execution_count": 31,
   "metadata": {},
   "outputs": [],
   "source": [
    "Coeficientes = [np.sum([f(values[i]) * np.exp(complex(0,1)*n*values[i]/10) for i in range(641)]) * np.pi/32 for n in range(641)]"
   ]
  },
  {
   "cell_type": "code",
   "execution_count": 32,
   "metadata": {},
   "outputs": [
    {
     "data": {
      "text/plain": [
       "(1.5015624999999364+2.0920981904737797e-15j)"
      ]
     },
     "execution_count": 32,
     "metadata": {},
     "output_type": "execute_result"
    }
   ],
   "source": [
    "x = np.pi\n",
    "np.sum([Coeficientes[n]*np.exp(-complex(0,1)*n*x/10) for n in range(641)])*(32/np.pi)/640"
   ]
  },
  {
   "cell_type": "code",
   "execution_count": 190,
   "metadata": {},
   "outputs": [
    {
     "data": {
      "text/plain": [
       "0.9999999999999999"
      ]
     },
     "execution_count": 190,
     "metadata": {},
     "output_type": "execute_result"
    }
   ],
   "source": [
    "f(np.pi)"
   ]
  },
  {
   "cell_type": "code",
   "execution_count": 30,
   "metadata": {},
   "outputs": [
    {
     "name": "stderr",
     "output_type": "stream",
     "text": [
      "/home/oscar/anaconda3/envs/MUCD-CN/lib/python3.8/site-packages/numpy/core/_asarray.py:83: ComplexWarning: Casting complex values to real discards the imaginary part\n",
      "  return array(a, dtype, copy=False, order=order)\n"
     ]
    },
    {
     "data": {
      "text/plain": [
       "Text(0, 0.5, 'f(x)')"
      ]
     },
     "execution_count": 30,
     "metadata": {},
     "output_type": "execute_result"
    },
    {
     "data": {
      "image/png": "[encoded data removed]",
      "text/plain": [
       "<Figure size 432x288 with 1 Axes>"
      ]
     },
     "metadata": {
      "needs_background": "light"
     },
     "output_type": "display_data"
    }
   ],
   "source": [
    "plt.plot(values, [eval(C,val) for val in values], color='#3d6f91')\n",
    "plt.title(\"Ejercicio 1\", fontsize=20, pad=20)\n",
    "plt.hlines(y=0, xmin = min(values), xmax = max(values), color='k', lw=0.5)\n",
    "plt.xlabel('x', fontsize=15)\n",
    "plt.ylabel('f(x)', fontsize=15)"
   ]
  },
  {
   "cell_type": "code",
   "execution_count": 21,
   "metadata": {},
   "outputs": [
    {
     "data": {
      "text/plain": [
       "640"
      ]
     },
     "execution_count": 21,
     "metadata": {},
     "output_type": "execute_result"
    }
   ],
   "source": [
    "len(C)"
   ]
  },
  {
   "cell_type": "code",
   "execution_count": null,
   "metadata": {},
   "outputs": [],
   "source": []
  }
 ],
 "metadata": {
  "kernelspec": {
   "display_name": "Python 3",
   "language": "python",
   "name": "python3"
  },
  "language_info": {
   "codemirror_mode": {
    "name": "ipython",
    "version": 3
   },
   "file_extension": ".py",
   "mimetype": "text/x-python",
   "name": "python",
   "nbconvert_exporter": "python",
   "pygments_lexer": "ipython3",
   "version": "3.8.5"
  }
 },
 "nbformat": 4,
 "nbformat_minor": 4
}
